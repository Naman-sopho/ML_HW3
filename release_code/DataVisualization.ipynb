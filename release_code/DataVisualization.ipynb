{
 "cells": [
  {
   "cell_type": "markdown",
   "metadata": {},
   "source": [
    "# Visualizing aspects of NN training\n",
    "\n",
    "In this notebook, we're going to ask you to do 3 types of simple visualizations surrounding the training of your NNs.\n",
    "\n",
    "##### 1. Data visualization\n",
    "\n",
    "In this step, we're going to examine our training data. This code is largely written for you, as an example.\n",
    "\n",
    "It's important to examine your data before you start training your models on it, so that you have a good idea of what kind of data your working on, and what kinds of errors you should look out for.\n",
    "\n",
    "##### 2. Training Visualization\n",
    "\n",
    "In the second step, we're going to visualize the training and validation losses of our models as we train them.\n",
    "\n",
    "This is a very important aspect of training deep models. Looking at a graph of these 2 losses can tell you a lot about how well your model is learning what you want it to.\n",
    "\n",
    "##### 3. Hyperparameter Visualization\n",
    "\n",
    "The last step of visualization is hyperparameter search.\n",
    "\n",
    "There are many, many hyperparameters in a typical DNN. How do we know which values to set for each of these parameters?\n",
    "\n",
    "The short answer is, there's really no good answer. The best we can do is run the model multiple times on different values, and pick the ones that do the best on our development data.\n",
    "\n",
    "Here, we'll take turns fixing all of our hyperparameters except one, and examining how our performance changes as we change that one parameter. Ideally, to be confident in our results, we should get a \"U\" shape (for scalar parameters), which indicates we've examined the full span of which values work for that hyperparameter, when the other values are fixed.\n"
   ]
  },
  {
   "cell_type": "markdown",
   "metadata": {},
   "source": [
    "## 1. Visualizing our data"
   ]
  },
  {
   "cell_type": "code",
   "execution_count": null,
   "metadata": {},
   "outputs": [],
   "source": [
    "# imports\n",
    "from collections import defaultdict\n",
    "import numpy as np\n",
    "from data import load\n",
    "import matplotlib.pyplot as plt\n",
    "%matplotlib inline"
   ]
  },
  {
   "cell_type": "code",
   "execution_count": null,
   "metadata": {},
   "outputs": [],
   "source": [
    "# Load the data\n",
    "\n",
    "### Students Start\n",
    "data, labels = load($$data directory$$, split='train') # Make this point to the correct data directory.\n",
    "dev_data, dev_labels = load($$data directory$$, split='dev') # Make this point to the correct data directory. \n",
    "### Students End"
   ]
  },
  {
   "cell_type": "markdown",
   "metadata": {},
   "source": [
    "### 1.1 The label distribution\n",
    "\n",
    "The first thing we'll examine is our training set label distribution. We'd like to know what our training set looks like, and how it compares to the distribution of our validation set.\n",
    "\n",
    "If things don't look very similar, we might have a _domain mismatch_. Adapting models trained from a different domain that what they're being evaluated on is a very active area of research, currently."
   ]
  },
  {
   "cell_type": "code",
   "execution_count": null,
   "metadata": {
    "scrolled": false
   },
   "outputs": [],
   "source": [
    "counts = defaultdict(int)\n",
    "for label in labels:\n",
    "    counts[label] += 1\n",
    "plt.figure()\n",
    "plt.title(\"Training set label distribution\")\n",
    "k = counts.keys()\n",
    "v = counts.values()\n",
    "plt.bar(list(k), height=list(v))\n",
    "\n",
    "dev_counts = defaultdict(int)\n",
    "for label in dev_labels:\n",
    "    dev_counts[label] += 1\n",
    "plt.figure()\n",
    "plt.title(\"Development set label distribution\")\n",
    "dk = dev_counts.keys()\n",
    "dv = dev_counts.values()\n",
    "plt.bar(list(dk), height=list(dv))"
   ]
  },
  {
   "cell_type": "markdown",
   "metadata": {},
   "source": [
    "Luckily, our label distribution looks fairly even across train and dev, so we won't worry about domain adaptation techniques. We'll just train our models assuming that the training and test distributions are equal."
   ]
  },
  {
   "cell_type": "markdown",
   "metadata": {},
   "source": [
    "### 1.2 Visualizing our data\n",
    "\n",
    "Next, let's visualize some of our data points. Since the dataset we're working on is a vision dataset, we can actually look at our data as images.\n",
    "\n",
    "Let's take a look at one example for each label that we have."
   ]
  },
  {
   "cell_type": "code",
   "execution_count": null,
   "metadata": {
    "scrolled": false
   },
   "outputs": [],
   "source": [
    "# Plot some examples of the data\n",
    "for label in range(10):\n",
    "    for i in range(len(labels)):\n",
    "        if int(labels[i]) == label:\n",
    "            label_idx = i\n",
    "            break\n",
    "    plt.figure()\n",
    "    plt.title(f\"Label: {label}\")\n",
    "    ex = np.array(data[label_idx], dtype=float)\n",
    "    plt.imshow(ex.reshape((28,28)))"
   ]
  },
  {
   "cell_type": "markdown",
   "metadata": {},
   "source": [
    "## 2. Visualizing our model's learning\n",
    "\n",
    "An important aspect of training DNN models is visualizing the training and development loss as our models train, as well as the accuracies.\n",
    "\n",
    "These graphs can tell us a lot about how well our models are doing. For instance, if we see that our training loss is going down, but our dev loss starts going up, we know that we are overfitting and we should have stopped training.\n",
    "\n",
    "The framework we've given you for training models logs dev and train loss / accuracy as the model trains. Using these logs, we can take a look into our model's behavior over time.\n",
    "\n",
    "You might want to use these graphs to help you debug your models as well, while you're developing them."
   ]
  },
  {
   "cell_type": "code",
   "execution_count": null,
   "metadata": {
    "scrolled": true
   },
   "outputs": [],
   "source": [
    "import pandas as pd\n",
    "import matplotlib.pyplot as plt\n",
    "%matplotlib inline"
   ]
  },
  {
   "cell_type": "markdown",
   "metadata": {},
   "source": [
    "### 2.1 Feed Forward Model\n",
    "\n",
    "The first model we'll take a look at is our simple feedforward model. Before you run the next cell, you should have implemented and trained a preliminary version of this model, and it's logs should be stored somewhere.\n",
    "\n",
    "You'll need to point to those logs to graph the loss and accuracies!\n",
    "\n",
    "Be sure to plot the losses of your best model (The model you're submitting) here before you turn the notebook in!"
   ]
  },
  {
   "cell_type": "code",
   "execution_count": null,
   "metadata": {},
   "outputs": [],
   "source": [
    "### Students Start\n",
    "ff_metrics = pd.read_csv($$FF log output$$) # point this to the correct log file!\n",
    "### Students End"
   ]
  },
  {
   "cell_type": "code",
   "execution_count": null,
   "metadata": {
    "scrolled": false
   },
   "outputs": [],
   "source": [
    "plt.figure(figsize=(15, 8))\n",
    "plt.title(\"FF Model Train and Dev Loss\")\n",
    "ax = plt.gca()\n",
    "ff_metrics.plot(kind='line',x='step',y='train_loss',ax=ax)\n",
    "ff_metrics.plot(kind='line',x='step',y='dev_loss', color='red', ax=ax)\n",
    "plt.show()"
   ]
  },
  {
   "cell_type": "code",
   "execution_count": null,
   "metadata": {
    "scrolled": false
   },
   "outputs": [],
   "source": [
    "plt.figure(figsize=(15, 8))\n",
    "plt.title(\"FF Model Train and Dev Accuracy\")\n",
    "### Students Start\n",
    "\n",
    "### Students End\n",
    "plt.show()"
   ]
  },
  {
   "cell_type": "markdown",
   "metadata": {},
   "source": [
    "Does the loss graph tell you anything? Do you need to train for more steps? Should you train for less? These kinds of plots can tell you a lot about your model!"
   ]
  },
  {
   "cell_type": "markdown",
   "metadata": {},
   "source": [
    "### 2.2 Basic CNN Model\n",
    "\n",
    "Now, let's to the same for the cnn model.\n",
    "\n",
    "This model still needs to be implemented! Make sure you have finished the coding portion for the CNN model, and have trained the model before you plot things.\n",
    "\n",
    "Does the plot look correct? It might tell you something about which hyperparameters you want to change (learning rate, batch size, number of steps) from the Feedforward Model setting! You might notice that this graph is quite a bit smoother than the ff model. This model takes many more steps to train than the FF model!\n",
    "\n",
    "Be sure to plot the losses of your best cnn model (The version you're submitting) here before you turn the notebook in!"
   ]
  },
  {
   "cell_type": "code",
   "execution_count": null,
   "metadata": {},
   "outputs": [],
   "source": [
    "### Students Start\n",
    "cnn_metrics = pd.read_csv($$ cnn logs $$) # point this to the correct log file!\n",
    "### Students End"
   ]
  },
  {
   "cell_type": "code",
   "execution_count": null,
   "metadata": {
    "scrolled": false
   },
   "outputs": [],
   "source": [
    "plt.figure(figsize=(15, 8))\n",
    "plt.title(\"CNN Model Train and Dev Loss\")\n",
    "### Students Start\n",
    "\n",
    "### Students End\n",
    "plt.show()"
   ]
  },
  {
   "cell_type": "code",
   "execution_count": null,
   "metadata": {
    "scrolled": false
   },
   "outputs": [],
   "source": [
    "plt.figure(figsize=(15, 8))\n",
    "plt.title(\"CNN Model Train and Dev Accuracy\")\n",
    "### Students Start\n",
    "\n",
    "### Students End\n",
    "plt.show()"
   ]
  },
  {
   "cell_type": "markdown",
   "metadata": {},
   "source": [
    "### 2.3 Best Model\n",
    "\n",
    "Now, do the same for the best model (The model you create from scratch!)\n",
    "\n",
    "Again, you might find it helpful to use this code to examine your model as you debug it and try to boost it's performance.\n",
    "\n",
    "Be sure to plot the losses of your best model (The model you're submitting) here before you turn the notebook in!"
   ]
  },
  {
   "cell_type": "code",
   "execution_count": null,
   "metadata": {
    "scrolled": true
   },
   "outputs": [],
   "source": [
    "### Students Start\n",
    "best_metrics = pd.read_csv($$ best model logs $$) # point this to the correct log file!\n",
    "### Students End"
   ]
  },
  {
   "cell_type": "code",
   "execution_count": null,
   "metadata": {},
   "outputs": [],
   "source": [
    "plt.figure(figsize=(15, 8))\n",
    "plt.title(\"Best Model Train and Dev Loss\")\n",
    "### Students Start\n",
    "\n",
    "### Students End\n",
    "plt.show()"
   ]
  },
  {
   "cell_type": "code",
   "execution_count": null,
   "metadata": {},
   "outputs": [],
   "source": [
    "plt.figure(figsize=(15, 8))\n",
    "plt.title(\"Best Model Train and Dev Accuracy\")\n",
    "### Students Start\n",
    "\n",
    "### Students End\n",
    "plt.show()"
   ]
  },
  {
   "cell_type": "markdown",
   "metadata": {},
   "source": [
    "## 3. Visualizing Hyperparameter Search\n",
    "\n",
    "You might have noticed that these models, especially the more complex ones, have tons of hyperparameters!\n",
    "\n",
    "In this next section of visualization, we're going to visualize the effects of specific hyperparameters.\n",
    "Namely, we're going to be performing a hyperparameter sweep over certain hyperparameters.\n",
    "\n",
    "To do this, you should freeze all hyperparameters except one. We will then choose a range of values for the one unfrozen hyperparameter. We'll train an individual model for each value of the range, and then store it's performance on held out development data.\n",
    "\n",
    "Once we have dev accuracy for each setting, we can plot it and examine the learning trends as we sweep over that hyperparameters.\n",
    "\n",
    "Ideally, if we have chosen an effective range, we should see something of an upside-down \"U\" shape, indicating that we have pushed the hyperparameter to either extreme where it starts to hurt performance, and we might have found something of an optimal value.\n",
    "\n",
    "Of course, this upside-down \"U\" and it's maximum value might only be true in the setting where all of our other hyperparameters are frozen. If we change those, then the sweep we just did might not be correct anymore. However, if we've chosen good values to freeze our other hyperparameters with, then we should learn something about the hyperparameter we're examining.\n",
    "\n",
    "**Note: You will be training a lot of models in this section. If you set up the sweeps correctly, running them should take a while. You might want to leave some time to run these experiments (go grab lunch or a coffee after you kick them off).**\n",
    "\n",
    "You can do this part a number of ways. The easiest way is write a script that runs ```main.py``` multiple times and passes in a different value for the hyperparameter in the command line arguments. Then you can manually grab look at performance of each model from it's output, and plot that in this notebook. This also allows you to save each model in a different spot, so you always have the best model after a sweep. This is nice, because now you don't have to retrain the model to run it on test data!\n",
    "\n",
    "Another way is to build a training loop in the cells below, and just run through that loop for each value of the hyperparameter. This might be a bit more work, but now you can directly store the dev accuracy of each run in the notebook, which migth make it easier to plot. It's up to you!\n",
    "\n",
    "**Also, please label your plots, so we know what we're looking at!**"
   ]
  },
  {
   "cell_type": "markdown",
   "metadata": {},
   "source": [
    "### 3.1 Feed Forward Learning Rate Sweep\n",
    "\n",
    "Let's examine the effect of increasing and decreasing the initial learning rate. Train a model for each learning rate value, and store the dev accuracy for each, then plot them below.\n",
    "\n",
    "Make sure that you freeze all other hyperparameters of the model to something reasonable, so that the trends you observe are informative!\n",
    "\n"
   ]
  },
  {
   "cell_type": "code",
   "execution_count": null,
   "metadata": {
    "scrolled": false
   },
   "outputs": [],
   "source": [
    "# e.g. learning_rates = [0.000001, 0.00001, 0.0001, 0.001, 0.01, 0.1, 1]\n",
    "### Students Start: Plot your parameters sweep here!"
   ]
  },
  {
   "cell_type": "markdown",
   "metadata": {},
   "source": [
    "### 3.2 CNN Number of Channels Sweep\n",
    "\n",
    "Now, let's take a look at how choice of channel size for conv1 affects the CNN model we've implemented. Once again, freeze the other hyperparameters, and train a new CNN model for each channel size that you think should be swept over.\n",
    "\n",
    "**The CNN Model should take a while to train, so you don't pick too dense of a set. Additionally, the larger this value is, the longer the model takes to train. This is another tradeoff we need to keep in mind. We don't want to select a value that takes too long to train! So it's okay for us to examine hyperparameters that range from too small to learn to too large to train efficiently, even though we won't get the \"U-shape\" we desire!**\n",
    "\n",
    "Plot the results of dev accuracy."
   ]
  },
  {
   "cell_type": "code",
   "execution_count": null,
   "metadata": {},
   "outputs": [],
   "source": [
    "### Students Start: Plot your parameters sweep here!"
   ]
  },
  {
   "cell_type": "markdown",
   "metadata": {},
   "source": [
    "### 3.3 Best Model Sweep\n",
    "\n",
    "Let's also examine the effect of some hyperparameters of the model you created for this task!\n",
    "\n",
    "Pick two hyperparameters in your model and perform separate sweeps on them. You should plot at least two graphs below! You can pick any hyperparameters you'd like. Try to pick ones that you are the most curious about, and examine the behavior.\n",
    "\n",
    "Can you learn anything new about these hyperparameters, and what valid valid values for them are?"
   ]
  },
  {
   "cell_type": "markdown",
   "metadata": {},
   "source": [
    "#### 3.3.1 Hyperparameter 1"
   ]
  },
  {
   "cell_type": "code",
   "execution_count": null,
   "metadata": {
    "scrolled": true
   },
   "outputs": [],
   "source": [
    "### Students Start: Plot your parameters sweep here!"
   ]
  },
  {
   "cell_type": "markdown",
   "metadata": {},
   "source": [
    "#### 3.3.2 Hyperparameter 2"
   ]
  },
  {
   "cell_type": "code",
   "execution_count": null,
   "metadata": {},
   "outputs": [],
   "source": [
    "### Students Start: Plot your parameters sweep here!"
   ]
  }
 ],
 "metadata": {
  "kernelspec": {
   "display_name": "Python 3",
   "language": "python",
   "name": "python3"
  },
  "language_info": {
   "codemirror_mode": {
    "name": "ipython",
    "version": 3
   },
   "file_extension": ".py",
   "mimetype": "text/x-python",
   "name": "python",
   "nbconvert_exporter": "python",
   "pygments_lexer": "ipython3",
   "version": "3.6.9"
  }
 },
 "nbformat": 4,
 "nbformat_minor": 2
}
